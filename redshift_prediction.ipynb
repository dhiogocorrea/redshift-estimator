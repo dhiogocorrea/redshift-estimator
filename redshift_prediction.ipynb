{
 "cells": [
  {
   "cell_type": "markdown",
   "metadata": {},
   "source": [
    "# Estimativa de redshift para mapeamento 3D do universo\n",
    "\n",
    "### O redshift (desvio do vermelho) é utilizado na Astronomia como métrica para estimar o quão distante uma galáxia está da Terra.\n",
    "### Ele é estimado a partir da comprimentos de onda emitidos pelos astros utilizando normalmente um espectrômetro.\n",
    "Também é possível medir grosseiramente o redshift usando fotometria, a partir de uma amostra fotométrica de redshifts espectroscópicos como treinamento"
   ]
  },
  {
   "cell_type": "code",
   "execution_count": 76,
   "metadata": {},
   "outputs": [],
   "source": [
    "# data analysis and wrangling\n",
    "import pandas as pd\n",
    "import numpy as np\n",
    "\n",
    "# visualization\n",
    "import seaborn as sns\n",
    "import matplotlib.pyplot as plt\n",
    "%matplotlib inline\n",
    "\n",
    "# machine learning\n",
    "from sklearn.model_selection import train_test_split\n",
    "from sklearn.ensemble import RandomForestRegressor"
   ]
  },
  {
   "cell_type": "code",
   "execution_count": 77,
   "metadata": {},
   "outputs": [
    {
     "name": "stdout",
     "output_type": "stream",
     "text": [
      "['ID' 'u' 'g' 'r' 'i' 'z' 'modelmagerr_u' 'modelmagerr_g' 'modelmagerr_r'\n",
      " 'modelmagerr_i' 'modelmagerr_z' 'redshift']\n"
     ]
    }
   ],
   "source": [
    "df = pd.read_csv('input/data.csv',sep=',')\n",
    "\n",
    "print(df.columns.values)"
   ]
  },
  {
   "cell_type": "code",
   "execution_count": 78,
   "metadata": {},
   "outputs": [
    {
     "data": {
      "text/html": [
       "<div>\n",
       "<style scoped>\n",
       "    .dataframe tbody tr th:only-of-type {\n",
       "        vertical-align: middle;\n",
       "    }\n",
       "\n",
       "    .dataframe tbody tr th {\n",
       "        vertical-align: top;\n",
       "    }\n",
       "\n",
       "    .dataframe thead th {\n",
       "        text-align: right;\n",
       "    }\n",
       "</style>\n",
       "<table border=\"1\" class=\"dataframe\">\n",
       "  <thead>\n",
       "    <tr style=\"text-align: right;\">\n",
       "      <th></th>\n",
       "      <th>ID</th>\n",
       "      <th>u</th>\n",
       "      <th>g</th>\n",
       "      <th>r</th>\n",
       "      <th>i</th>\n",
       "      <th>z</th>\n",
       "      <th>modelmagerr_u</th>\n",
       "      <th>modelmagerr_g</th>\n",
       "      <th>modelmagerr_r</th>\n",
       "      <th>modelmagerr_i</th>\n",
       "      <th>modelmagerr_z</th>\n",
       "      <th>redshift</th>\n",
       "    </tr>\n",
       "  </thead>\n",
       "  <tbody>\n",
       "    <tr>\n",
       "      <th>0</th>\n",
       "      <td>1</td>\n",
       "      <td>20.05579</td>\n",
       "      <td>19.03638</td>\n",
       "      <td>18.33059</td>\n",
       "      <td>17.91299</td>\n",
       "      <td>17.70723</td>\n",
       "      <td>0.158691</td>\n",
       "      <td>0.026021</td>\n",
       "      <td>0.017158</td>\n",
       "      <td>0.015686</td>\n",
       "      <td>0.040499</td>\n",
       "      <td>0.186443</td>\n",
       "    </tr>\n",
       "    <tr>\n",
       "      <th>1</th>\n",
       "      <td>2</td>\n",
       "      <td>23.89449</td>\n",
       "      <td>19.98589</td>\n",
       "      <td>18.34053</td>\n",
       "      <td>17.72100</td>\n",
       "      <td>17.40883</td>\n",
       "      <td>1.956080</td>\n",
       "      <td>0.062189</td>\n",
       "      <td>0.018963</td>\n",
       "      <td>0.014417</td>\n",
       "      <td>0.032033</td>\n",
       "      <td>0.296161</td>\n",
       "    </tr>\n",
       "    <tr>\n",
       "      <th>2</th>\n",
       "      <td>3</td>\n",
       "      <td>20.48605</td>\n",
       "      <td>18.54287</td>\n",
       "      <td>17.45982</td>\n",
       "      <td>17.04516</td>\n",
       "      <td>16.80097</td>\n",
       "      <td>0.246165</td>\n",
       "      <td>0.018180</td>\n",
       "      <td>0.009551</td>\n",
       "      <td>0.008721</td>\n",
       "      <td>0.019908</td>\n",
       "      <td>0.178013</td>\n",
       "    </tr>\n",
       "    <tr>\n",
       "      <th>3</th>\n",
       "      <td>4</td>\n",
       "      <td>20.37043</td>\n",
       "      <td>18.14693</td>\n",
       "      <td>16.95750</td>\n",
       "      <td>16.53085</td>\n",
       "      <td>16.26944</td>\n",
       "      <td>0.179420</td>\n",
       "      <td>0.011766</td>\n",
       "      <td>0.006171</td>\n",
       "      <td>0.005637</td>\n",
       "      <td>0.011508</td>\n",
       "      <td>0.181958</td>\n",
       "    </tr>\n",
       "    <tr>\n",
       "      <th>4</th>\n",
       "      <td>5</td>\n",
       "      <td>17.67912</td>\n",
       "      <td>15.79491</td>\n",
       "      <td>14.93857</td>\n",
       "      <td>14.54253</td>\n",
       "      <td>14.23595</td>\n",
       "      <td>0.022103</td>\n",
       "      <td>0.003372</td>\n",
       "      <td>0.002708</td>\n",
       "      <td>0.002611</td>\n",
       "      <td>0.003838</td>\n",
       "      <td>0.039847</td>\n",
       "    </tr>\n",
       "  </tbody>\n",
       "</table>\n",
       "</div>"
      ],
      "text/plain": [
       "   ID         u         g         r         i         z  modelmagerr_u  \\\n",
       "0   1  20.05579  19.03638  18.33059  17.91299  17.70723       0.158691   \n",
       "1   2  23.89449  19.98589  18.34053  17.72100  17.40883       1.956080   \n",
       "2   3  20.48605  18.54287  17.45982  17.04516  16.80097       0.246165   \n",
       "3   4  20.37043  18.14693  16.95750  16.53085  16.26944       0.179420   \n",
       "4   5  17.67912  15.79491  14.93857  14.54253  14.23595       0.022103   \n",
       "\n",
       "   modelmagerr_g  modelmagerr_r  modelmagerr_i  modelmagerr_z  redshift  \n",
       "0       0.026021       0.017158       0.015686       0.040499  0.186443  \n",
       "1       0.062189       0.018963       0.014417       0.032033  0.296161  \n",
       "2       0.018180       0.009551       0.008721       0.019908  0.178013  \n",
       "3       0.011766       0.006171       0.005637       0.011508  0.181958  \n",
       "4       0.003372       0.002708       0.002611       0.003838  0.039847  "
      ]
     },
     "execution_count": 78,
     "metadata": {},
     "output_type": "execute_result"
    }
   ],
   "source": [
    "df.head()"
   ]
  },
  {
   "cell_type": "code",
   "execution_count": 79,
   "metadata": {
    "scrolled": true
   },
   "outputs": [
    {
     "data": {
      "text/html": [
       "<div>\n",
       "<style scoped>\n",
       "    .dataframe tbody tr th:only-of-type {\n",
       "        vertical-align: middle;\n",
       "    }\n",
       "\n",
       "    .dataframe tbody tr th {\n",
       "        vertical-align: top;\n",
       "    }\n",
       "\n",
       "    .dataframe thead th {\n",
       "        text-align: right;\n",
       "    }\n",
       "</style>\n",
       "<table border=\"1\" class=\"dataframe\">\n",
       "  <thead>\n",
       "    <tr style=\"text-align: right;\">\n",
       "      <th></th>\n",
       "      <th>ID</th>\n",
       "      <th>u</th>\n",
       "      <th>g</th>\n",
       "      <th>r</th>\n",
       "      <th>i</th>\n",
       "      <th>z</th>\n",
       "      <th>modelmagerr_u</th>\n",
       "      <th>modelmagerr_g</th>\n",
       "      <th>modelmagerr_r</th>\n",
       "      <th>modelmagerr_i</th>\n",
       "      <th>modelmagerr_z</th>\n",
       "      <th>redshift</th>\n",
       "    </tr>\n",
       "  </thead>\n",
       "  <tbody>\n",
       "    <tr>\n",
       "      <th>count</th>\n",
       "      <td>436275.000000</td>\n",
       "      <td>436275.000000</td>\n",
       "      <td>436275.000000</td>\n",
       "      <td>436275.000000</td>\n",
       "      <td>436275.000000</td>\n",
       "      <td>436275.000000</td>\n",
       "      <td>436275.000000</td>\n",
       "      <td>436275.000000</td>\n",
       "      <td>436275.000000</td>\n",
       "      <td>436275.000000</td>\n",
       "      <td>436275.000000</td>\n",
       "      <td>436275.000000</td>\n",
       "    </tr>\n",
       "    <tr>\n",
       "      <th>mean</th>\n",
       "      <td>218138.000000</td>\n",
       "      <td>19.974695</td>\n",
       "      <td>18.271918</td>\n",
       "      <td>17.337510</td>\n",
       "      <td>16.915777</td>\n",
       "      <td>16.636066</td>\n",
       "      <td>0.202750</td>\n",
       "      <td>0.019408</td>\n",
       "      <td>0.009979</td>\n",
       "      <td>0.010528</td>\n",
       "      <td>0.027695</td>\n",
       "      <td>0.149871</td>\n",
       "    </tr>\n",
       "    <tr>\n",
       "      <th>std</th>\n",
       "      <td>125941.888683</td>\n",
       "      <td>1.677817</td>\n",
       "      <td>1.354717</td>\n",
       "      <td>1.132568</td>\n",
       "      <td>1.091613</td>\n",
       "      <td>1.102611</td>\n",
       "      <td>0.428930</td>\n",
       "      <td>0.185063</td>\n",
       "      <td>0.016162</td>\n",
       "      <td>0.113036</td>\n",
       "      <td>0.159566</td>\n",
       "      <td>0.115320</td>\n",
       "    </tr>\n",
       "    <tr>\n",
       "      <th>min</th>\n",
       "      <td>1.000000</td>\n",
       "      <td>11.397640</td>\n",
       "      <td>10.588240</td>\n",
       "      <td>9.731096</td>\n",
       "      <td>9.788093</td>\n",
       "      <td>8.984495</td>\n",
       "      <td>0.002102</td>\n",
       "      <td>0.001434</td>\n",
       "      <td>0.001426</td>\n",
       "      <td>0.001432</td>\n",
       "      <td>0.001461</td>\n",
       "      <td>0.000503</td>\n",
       "    </tr>\n",
       "    <tr>\n",
       "      <th>25%</th>\n",
       "      <td>109069.500000</td>\n",
       "      <td>18.979390</td>\n",
       "      <td>17.546245</td>\n",
       "      <td>16.784735</td>\n",
       "      <td>16.391570</td>\n",
       "      <td>16.101520</td>\n",
       "      <td>0.043858</td>\n",
       "      <td>0.006758</td>\n",
       "      <td>0.005241</td>\n",
       "      <td>0.005263</td>\n",
       "      <td>0.011819</td>\n",
       "      <td>0.074648</td>\n",
       "    </tr>\n",
       "    <tr>\n",
       "      <th>50%</th>\n",
       "      <td>218138.000000</td>\n",
       "      <td>19.722740</td>\n",
       "      <td>18.144210</td>\n",
       "      <td>17.332470</td>\n",
       "      <td>16.928380</td>\n",
       "      <td>16.641330</td>\n",
       "      <td>0.071800</td>\n",
       "      <td>0.009268</td>\n",
       "      <td>0.006808</td>\n",
       "      <td>0.006824</td>\n",
       "      <td>0.016625</td>\n",
       "      <td>0.116620</td>\n",
       "    </tr>\n",
       "    <tr>\n",
       "      <th>75%</th>\n",
       "      <td>327206.500000</td>\n",
       "      <td>20.565335</td>\n",
       "      <td>18.708550</td>\n",
       "      <td>17.697865</td>\n",
       "      <td>17.308900</td>\n",
       "      <td>17.076570</td>\n",
       "      <td>0.136097</td>\n",
       "      <td>0.013675</td>\n",
       "      <td>0.009293</td>\n",
       "      <td>0.009639</td>\n",
       "      <td>0.026264</td>\n",
       "      <td>0.178712</td>\n",
       "    </tr>\n",
       "    <tr>\n",
       "      <th>max</th>\n",
       "      <td>436275.000000</td>\n",
       "      <td>32.767230</td>\n",
       "      <td>32.491460</td>\n",
       "      <td>27.838990</td>\n",
       "      <td>29.517740</td>\n",
       "      <td>30.127820</td>\n",
       "      <td>69.460730</td>\n",
       "      <td>95.777590</td>\n",
       "      <td>4.801591</td>\n",
       "      <td>54.123270</td>\n",
       "      <td>53.628580</td>\n",
       "      <td>1.645000</td>\n",
       "    </tr>\n",
       "  </tbody>\n",
       "</table>\n",
       "</div>"
      ],
      "text/plain": [
       "                  ID              u              g              r  \\\n",
       "count  436275.000000  436275.000000  436275.000000  436275.000000   \n",
       "mean   218138.000000      19.974695      18.271918      17.337510   \n",
       "std    125941.888683       1.677817       1.354717       1.132568   \n",
       "min         1.000000      11.397640      10.588240       9.731096   \n",
       "25%    109069.500000      18.979390      17.546245      16.784735   \n",
       "50%    218138.000000      19.722740      18.144210      17.332470   \n",
       "75%    327206.500000      20.565335      18.708550      17.697865   \n",
       "max    436275.000000      32.767230      32.491460      27.838990   \n",
       "\n",
       "                   i              z  modelmagerr_u  modelmagerr_g  \\\n",
       "count  436275.000000  436275.000000  436275.000000  436275.000000   \n",
       "mean       16.915777      16.636066       0.202750       0.019408   \n",
       "std         1.091613       1.102611       0.428930       0.185063   \n",
       "min         9.788093       8.984495       0.002102       0.001434   \n",
       "25%        16.391570      16.101520       0.043858       0.006758   \n",
       "50%        16.928380      16.641330       0.071800       0.009268   \n",
       "75%        17.308900      17.076570       0.136097       0.013675   \n",
       "max        29.517740      30.127820      69.460730      95.777590   \n",
       "\n",
       "       modelmagerr_r  modelmagerr_i  modelmagerr_z       redshift  \n",
       "count  436275.000000  436275.000000  436275.000000  436275.000000  \n",
       "mean        0.009979       0.010528       0.027695       0.149871  \n",
       "std         0.016162       0.113036       0.159566       0.115320  \n",
       "min         0.001426       0.001432       0.001461       0.000503  \n",
       "25%         0.005241       0.005263       0.011819       0.074648  \n",
       "50%         0.006808       0.006824       0.016625       0.116620  \n",
       "75%         0.009293       0.009639       0.026264       0.178712  \n",
       "max         4.801591      54.123270      53.628580       1.645000  "
      ]
     },
     "execution_count": 79,
     "metadata": {},
     "output_type": "execute_result"
    }
   ],
   "source": [
    "df.describe()"
   ]
  },
  {
   "cell_type": "code",
   "execution_count": 80,
   "metadata": {},
   "outputs": [
    {
     "name": "stderr",
     "output_type": "stream",
     "text": [
      "/home/hypnos/anaconda3/lib/python3.6/site-packages/matplotlib/axes/_axes.py:6462: UserWarning: The 'normed' kwarg is deprecated, and has been replaced by the 'density' kwarg.\n",
      "  warnings.warn(\"The 'normed' kwarg is deprecated, and has been \"\n"
     ]
    },
    {
     "data": {
      "text/plain": [
       "<matplotlib.axes._subplots.AxesSubplot at 0x7fd608549828>"
      ]
     },
     "execution_count": 80,
     "metadata": {},
     "output_type": "execute_result"
    },
    {
     "data": {
      "image/png": "[encoded data removed]",
      "text/plain": [
       "<Figure size 432x288 with 1 Axes>"
      ]
     },
     "metadata": {},
     "output_type": "display_data"
    }
   ],
   "source": [
    "sns.distplot(df['redshift'], hist=True, kde=True, \n",
    "             color = 'darkblue', \n",
    "             hist_kws={'edgecolor':'black'},\n",
    "             kde_kws={'linewidth': 4})"
   ]
  },
  {
   "cell_type": "markdown",
   "metadata": {},
   "source": [
    "## Performance metrics:"
   ]
  },
  {
   "cell_type": "code",
   "execution_count": 81,
   "metadata": {},
   "outputs": [],
   "source": [
    "from sklearn.metrics import r2_score\n",
    "\n",
    "def performance_metric(y_true, y_predict):\n",
    "    \"\"\" Calculates and returns the performance score between \n",
    "        true and predicted values based on the metric chosen. \"\"\"\n",
    "    score = r2_score(y_true, y_predict)\n",
    "    \n",
    "    # Return the score\n",
    "    return score"
   ]
  },
  {
   "cell_type": "code",
   "execution_count": 82,
   "metadata": {},
   "outputs": [],
   "source": [
    "from sklearn.metrics import mean_squared_error\n",
    "\n",
    "def mean_metric(y_test, pred):\n",
    "    \"\"\" Calculates and returns the performance score between \n",
    "        true and predicted values based on the metric chosen. \"\"\"\n",
    "    score = mean_squared_error(y_test, pred)\n",
    "    \n",
    "    # Return the score\n",
    "    return score"
   ]
  },
  {
   "cell_type": "markdown",
   "metadata": {},
   "source": [
    "## Model trainning:"
   ]
  },
  {
   "cell_type": "code",
   "execution_count": 83,
   "metadata": {},
   "outputs": [],
   "source": [
    "#Dividing data in train/test\n",
    "target = df['redshift']"
   ]
  },
  {
   "cell_type": "code",
   "execution_count": 84,
   "metadata": {},
   "outputs": [],
   "source": [
    "df.drop('redshift', axis=1, inplace=True)"
   ]
  },
  {
   "cell_type": "code",
   "execution_count": 86,
   "metadata": {},
   "outputs": [],
   "source": [
    "features = df.drop('ID', 1)"
   ]
  },
  {
   "cell_type": "code",
   "execution_count": 88,
   "metadata": {},
   "outputs": [],
   "source": [
    "X_train, X_test, y_train, y_test = train_test_split(features, target, test_size=0.20, random_state=42)"
   ]
  },
  {
   "cell_type": "code",
   "execution_count": 89,
   "metadata": {},
   "outputs": [
    {
     "name": "stdout",
     "output_type": "stream",
     "text": [
      "Model successfully trained.\n"
     ]
    }
   ],
   "source": [
    "#Random Forest Regression\n",
    "\n",
    "regressor = RandomForestRegressor(random_state=0)\n",
    "regressor.fit(X_train,y_train)\n",
    "predicted = regressor.predict(X_test)\n",
    "\n",
    "print('Model successfully trained.')"
   ]
  },
  {
   "cell_type": "code",
   "execution_count": 90,
   "metadata": {},
   "outputs": [
    {
     "name": "stdout",
     "output_type": "stream",
     "text": [
      "R2 Score:  91.19191944308258 \n",
      "Mean Error:  0.11705452719345918\n"
     ]
    }
   ],
   "source": [
    "random_forest_score = performance_metric(y_test,regressor.predict(X_test))\n",
    "random_forest_error = mean_metric(y_test,regressor.predict(X_test))\n",
    "\n",
    "print('R2 Score: ', random_forest_score * 100, '\\nMean Error: ', random_forest_error * 100)"
   ]
  },
  {
   "cell_type": "code",
   "execution_count": 91,
   "metadata": {},
   "outputs": [
    {
     "name": "stderr",
     "output_type": "stream",
     "text": [
      "/home/hypnos/anaconda3/lib/python3.6/site-packages/matplotlib/axes/_axes.py:6462: UserWarning: The 'normed' kwarg is deprecated, and has been replaced by the 'density' kwarg.\n",
      "  warnings.warn(\"The 'normed' kwarg is deprecated, and has been \"\n"
     ]
    },
    {
     "data": {
      "text/plain": [
       "<matplotlib.axes._subplots.AxesSubplot at 0x7fd608502208>"
      ]
     },
     "execution_count": 91,
     "metadata": {},
     "output_type": "execute_result"
    },
    {
     "data": {
      "image/png": "[encoded data removed]",
      "text/plain": [
       "<Figure size 432x288 with 1 Axes>"
      ]
     },
     "metadata": {},
     "output_type": "display_data"
    }
   ],
   "source": [
    "sns.distplot(predicted, hist=True, kde=True, \n",
    "             color = 'darkblue', \n",
    "             hist_kws={'edgecolor':'black'},\n",
    "             kde_kws={'linewidth': 4})"
   ]
  },
  {
   "cell_type": "markdown",
   "metadata": {},
   "source": [
    "## Predicting a new dataset:"
   ]
  },
  {
   "cell_type": "code",
   "execution_count": 93,
   "metadata": {},
   "outputs": [
    {
     "data": {
      "text/html": [
       "<div>\n",
       "<style scoped>\n",
       "    .dataframe tbody tr th:only-of-type {\n",
       "        vertical-align: middle;\n",
       "    }\n",
       "\n",
       "    .dataframe tbody tr th {\n",
       "        vertical-align: top;\n",
       "    }\n",
       "\n",
       "    .dataframe thead th {\n",
       "        text-align: right;\n",
       "    }\n",
       "</style>\n",
       "<table border=\"1\" class=\"dataframe\">\n",
       "  <thead>\n",
       "    <tr style=\"text-align: right;\">\n",
       "      <th></th>\n",
       "      <th>ID</th>\n",
       "      <th>u</th>\n",
       "      <th>g</th>\n",
       "      <th>r</th>\n",
       "      <th>i</th>\n",
       "      <th>z</th>\n",
       "      <th>modelmagerr_u</th>\n",
       "      <th>modelmagerr_g</th>\n",
       "      <th>modelmagerr_r</th>\n",
       "      <th>modelmagerr_i</th>\n",
       "      <th>modelmagerr_z</th>\n",
       "    </tr>\n",
       "  </thead>\n",
       "  <tbody>\n",
       "    <tr>\n",
       "      <th>0</th>\n",
       "      <td>1</td>\n",
       "      <td>18.44576</td>\n",
       "      <td>17.42792</td>\n",
       "      <td>17.04441</td>\n",
       "      <td>16.84457</td>\n",
       "      <td>16.65202</td>\n",
       "      <td>0.059144</td>\n",
       "      <td>0.010632</td>\n",
       "      <td>0.011514</td>\n",
       "      <td>0.012076</td>\n",
       "      <td>0.030227</td>\n",
       "    </tr>\n",
       "    <tr>\n",
       "      <th>1</th>\n",
       "      <td>2</td>\n",
       "      <td>19.53878</td>\n",
       "      <td>18.54303</td>\n",
       "      <td>17.92247</td>\n",
       "      <td>17.52453</td>\n",
       "      <td>17.39197</td>\n",
       "      <td>0.085554</td>\n",
       "      <td>0.017542</td>\n",
       "      <td>0.011329</td>\n",
       "      <td>0.010053</td>\n",
       "      <td>0.030612</td>\n",
       "    </tr>\n",
       "    <tr>\n",
       "      <th>2</th>\n",
       "      <td>3</td>\n",
       "      <td>20.01489</td>\n",
       "      <td>18.17974</td>\n",
       "      <td>17.29804</td>\n",
       "      <td>16.89536</td>\n",
       "      <td>16.62627</td>\n",
       "      <td>0.113736</td>\n",
       "      <td>0.011341</td>\n",
       "      <td>0.007241</td>\n",
       "      <td>0.006545</td>\n",
       "      <td>0.015118</td>\n",
       "    </tr>\n",
       "    <tr>\n",
       "      <th>3</th>\n",
       "      <td>4</td>\n",
       "      <td>19.24964</td>\n",
       "      <td>17.25186</td>\n",
       "      <td>16.19505</td>\n",
       "      <td>15.76581</td>\n",
       "      <td>15.42115</td>\n",
       "      <td>0.090770</td>\n",
       "      <td>0.008102</td>\n",
       "      <td>0.004773</td>\n",
       "      <td>0.004271</td>\n",
       "      <td>0.008688</td>\n",
       "    </tr>\n",
       "    <tr>\n",
       "      <th>4</th>\n",
       "      <td>5</td>\n",
       "      <td>19.60299</td>\n",
       "      <td>18.11447</td>\n",
       "      <td>17.30755</td>\n",
       "      <td>16.89753</td>\n",
       "      <td>16.63263</td>\n",
       "      <td>0.166126</td>\n",
       "      <td>0.018490</td>\n",
       "      <td>0.011482</td>\n",
       "      <td>0.010039</td>\n",
       "      <td>0.026445</td>\n",
       "    </tr>\n",
       "  </tbody>\n",
       "</table>\n",
       "</div>"
      ],
      "text/plain": [
       "   ID         u         g         r         i         z  modelmagerr_u  \\\n",
       "0   1  18.44576  17.42792  17.04441  16.84457  16.65202       0.059144   \n",
       "1   2  19.53878  18.54303  17.92247  17.52453  17.39197       0.085554   \n",
       "2   3  20.01489  18.17974  17.29804  16.89536  16.62627       0.113736   \n",
       "3   4  19.24964  17.25186  16.19505  15.76581  15.42115       0.090770   \n",
       "4   5  19.60299  18.11447  17.30755  16.89753  16.63263       0.166126   \n",
       "\n",
       "   modelmagerr_g  modelmagerr_r  modelmagerr_i  modelmagerr_z  \n",
       "0       0.010632       0.011514       0.012076       0.030227  \n",
       "1       0.017542       0.011329       0.010053       0.030612  \n",
       "2       0.011341       0.007241       0.006545       0.015118  \n",
       "3       0.008102       0.004773       0.004271       0.008688  \n",
       "4       0.018490       0.011482       0.010039       0.026445  "
      ]
     },
     "execution_count": 93,
     "metadata": {},
     "output_type": "execute_result"
    }
   ],
   "source": [
    "test_df = pd.read_csv('input/query.csv',sep=',')\n",
    "test_df.head()"
   ]
  },
  {
   "cell_type": "code",
   "execution_count": 94,
   "metadata": {},
   "outputs": [],
   "source": [
    "test_df = test_df.drop('ID', 1)"
   ]
  },
  {
   "cell_type": "code",
   "execution_count": 95,
   "metadata": {},
   "outputs": [],
   "source": [
    "pred = regressor.predict(test_df)\n",
    "test_df['redshift_pred'] = pred"
   ]
  },
  {
   "cell_type": "code",
   "execution_count": 96,
   "metadata": {},
   "outputs": [
    {
     "data": {
      "text/html": [
       "<div>\n",
       "<style scoped>\n",
       "    .dataframe tbody tr th:only-of-type {\n",
       "        vertical-align: middle;\n",
       "    }\n",
       "\n",
       "    .dataframe tbody tr th {\n",
       "        vertical-align: top;\n",
       "    }\n",
       "\n",
       "    .dataframe thead th {\n",
       "        text-align: right;\n",
       "    }\n",
       "</style>\n",
       "<table border=\"1\" class=\"dataframe\">\n",
       "  <thead>\n",
       "    <tr style=\"text-align: right;\">\n",
       "      <th></th>\n",
       "      <th>u</th>\n",
       "      <th>g</th>\n",
       "      <th>r</th>\n",
       "      <th>i</th>\n",
       "      <th>z</th>\n",
       "      <th>modelmagerr_u</th>\n",
       "      <th>modelmagerr_g</th>\n",
       "      <th>modelmagerr_r</th>\n",
       "      <th>modelmagerr_i</th>\n",
       "      <th>modelmagerr_z</th>\n",
       "      <th>redshift_pred</th>\n",
       "    </tr>\n",
       "  </thead>\n",
       "  <tbody>\n",
       "    <tr>\n",
       "      <th>277982</th>\n",
       "      <td>25.823121</td>\n",
       "      <td>23.834864</td>\n",
       "      <td>22.324605</td>\n",
       "      <td>20.866951</td>\n",
       "      <td>19.925565</td>\n",
       "      <td>0.543862</td>\n",
       "      <td>0.524021</td>\n",
       "      <td>0.212255</td>\n",
       "      <td>0.097398</td>\n",
       "      <td>0.13601</td>\n",
       "      <td>0.9668</td>\n",
       "    </tr>\n",
       "    <tr>\n",
       "      <th>277984</th>\n",
       "      <td>25.823121</td>\n",
       "      <td>23.834864</td>\n",
       "      <td>22.324605</td>\n",
       "      <td>20.866951</td>\n",
       "      <td>19.925565</td>\n",
       "      <td>0.543862</td>\n",
       "      <td>0.524021</td>\n",
       "      <td>0.212255</td>\n",
       "      <td>0.097398</td>\n",
       "      <td>0.13601</td>\n",
       "      <td>0.9668</td>\n",
       "    </tr>\n",
       "    <tr>\n",
       "      <th>342587</th>\n",
       "      <td>20.702460</td>\n",
       "      <td>20.633540</td>\n",
       "      <td>20.074670</td>\n",
       "      <td>20.265990</td>\n",
       "      <td>20.870250</td>\n",
       "      <td>0.108541</td>\n",
       "      <td>0.074032</td>\n",
       "      <td>0.030454</td>\n",
       "      <td>0.055046</td>\n",
       "      <td>0.33159</td>\n",
       "      <td>0.9220</td>\n",
       "    </tr>\n",
       "  </tbody>\n",
       "</table>\n",
       "</div>"
      ],
      "text/plain": [
       "                u          g          r          i          z  modelmagerr_u  \\\n",
       "277982  25.823121  23.834864  22.324605  20.866951  19.925565       0.543862   \n",
       "277984  25.823121  23.834864  22.324605  20.866951  19.925565       0.543862   \n",
       "342587  20.702460  20.633540  20.074670  20.265990  20.870250       0.108541   \n",
       "\n",
       "        modelmagerr_g  modelmagerr_r  modelmagerr_i  modelmagerr_z  \\\n",
       "277982       0.524021       0.212255       0.097398        0.13601   \n",
       "277984       0.524021       0.212255       0.097398        0.13601   \n",
       "342587       0.074032       0.030454       0.055046        0.33159   \n",
       "\n",
       "        redshift_pred  \n",
       "277982         0.9668  \n",
       "277984         0.9668  \n",
       "342587         0.9220  "
      ]
     },
     "execution_count": 96,
     "metadata": {},
     "output_type": "execute_result"
    }
   ],
   "source": [
    "test_df.loc[test_df['redshift_pred'] > 0.9].head()"
   ]
  },
  {
   "cell_type": "code",
   "execution_count": 97,
   "metadata": {},
   "outputs": [
    {
     "data": {
      "text/html": [
       "<div>\n",
       "<style scoped>\n",
       "    .dataframe tbody tr th:only-of-type {\n",
       "        vertical-align: middle;\n",
       "    }\n",
       "\n",
       "    .dataframe tbody tr th {\n",
       "        vertical-align: top;\n",
       "    }\n",
       "\n",
       "    .dataframe thead th {\n",
       "        text-align: right;\n",
       "    }\n",
       "</style>\n",
       "<table border=\"1\" class=\"dataframe\">\n",
       "  <thead>\n",
       "    <tr style=\"text-align: right;\">\n",
       "      <th></th>\n",
       "      <th>u</th>\n",
       "      <th>g</th>\n",
       "      <th>r</th>\n",
       "      <th>i</th>\n",
       "      <th>z</th>\n",
       "      <th>modelmagerr_u</th>\n",
       "      <th>modelmagerr_g</th>\n",
       "      <th>modelmagerr_r</th>\n",
       "      <th>modelmagerr_i</th>\n",
       "      <th>modelmagerr_z</th>\n",
       "      <th>redshift_pred</th>\n",
       "    </tr>\n",
       "  </thead>\n",
       "  <tbody>\n",
       "    <tr>\n",
       "      <th>0</th>\n",
       "      <td>18.44576</td>\n",
       "      <td>17.42792</td>\n",
       "      <td>17.04441</td>\n",
       "      <td>16.84457</td>\n",
       "      <td>16.65202</td>\n",
       "      <td>0.059144</td>\n",
       "      <td>0.010632</td>\n",
       "      <td>0.011514</td>\n",
       "      <td>0.012076</td>\n",
       "      <td>0.030227</td>\n",
       "      <td>0.036516</td>\n",
       "    </tr>\n",
       "    <tr>\n",
       "      <th>2</th>\n",
       "      <td>20.01489</td>\n",
       "      <td>18.17974</td>\n",
       "      <td>17.29804</td>\n",
       "      <td>16.89536</td>\n",
       "      <td>16.62627</td>\n",
       "      <td>0.113736</td>\n",
       "      <td>0.011341</td>\n",
       "      <td>0.007241</td>\n",
       "      <td>0.006545</td>\n",
       "      <td>0.015118</td>\n",
       "      <td>0.097233</td>\n",
       "    </tr>\n",
       "    <tr>\n",
       "      <th>11</th>\n",
       "      <td>19.18274</td>\n",
       "      <td>17.94016</td>\n",
       "      <td>17.32461</td>\n",
       "      <td>17.01094</td>\n",
       "      <td>16.80739</td>\n",
       "      <td>0.063354</td>\n",
       "      <td>0.010415</td>\n",
       "      <td>0.007973</td>\n",
       "      <td>0.008240</td>\n",
       "      <td>0.022063</td>\n",
       "      <td>0.092883</td>\n",
       "    </tr>\n",
       "    <tr>\n",
       "      <th>18</th>\n",
       "      <td>19.13323</td>\n",
       "      <td>18.07426</td>\n",
       "      <td>17.75239</td>\n",
       "      <td>17.44489</td>\n",
       "      <td>17.42784</td>\n",
       "      <td>0.038601</td>\n",
       "      <td>0.007803</td>\n",
       "      <td>0.007295</td>\n",
       "      <td>0.007490</td>\n",
       "      <td>0.020377</td>\n",
       "      <td>0.073458</td>\n",
       "    </tr>\n",
       "    <tr>\n",
       "      <th>55</th>\n",
       "      <td>19.38665</td>\n",
       "      <td>18.43661</td>\n",
       "      <td>18.11959</td>\n",
       "      <td>17.94363</td>\n",
       "      <td>17.85123</td>\n",
       "      <td>0.074778</td>\n",
       "      <td>0.013497</td>\n",
       "      <td>0.012693</td>\n",
       "      <td>0.014214</td>\n",
       "      <td>0.039984</td>\n",
       "      <td>0.068427</td>\n",
       "    </tr>\n",
       "  </tbody>\n",
       "</table>\n",
       "</div>"
      ],
      "text/plain": [
       "           u         g         r         i         z  modelmagerr_u  \\\n",
       "0   18.44576  17.42792  17.04441  16.84457  16.65202       0.059144   \n",
       "2   20.01489  18.17974  17.29804  16.89536  16.62627       0.113736   \n",
       "11  19.18274  17.94016  17.32461  17.01094  16.80739       0.063354   \n",
       "18  19.13323  18.07426  17.75239  17.44489  17.42784       0.038601   \n",
       "55  19.38665  18.43661  18.11959  17.94363  17.85123       0.074778   \n",
       "\n",
       "    modelmagerr_g  modelmagerr_r  modelmagerr_i  modelmagerr_z  redshift_pred  \n",
       "0        0.010632       0.011514       0.012076       0.030227       0.036516  \n",
       "2        0.011341       0.007241       0.006545       0.015118       0.097233  \n",
       "11       0.010415       0.007973       0.008240       0.022063       0.092883  \n",
       "18       0.007803       0.007295       0.007490       0.020377       0.073458  \n",
       "55       0.013497       0.012693       0.014214       0.039984       0.068427  "
      ]
     },
     "execution_count": 97,
     "metadata": {},
     "output_type": "execute_result"
    }
   ],
   "source": [
    "test_df.loc[test_df['redshift_pred'] < 0.1].head()"
   ]
  },
  {
   "cell_type": "code",
   "execution_count": 98,
   "metadata": {
    "scrolled": true
   },
   "outputs": [
    {
     "name": "stderr",
     "output_type": "stream",
     "text": [
      "/home/hypnos/anaconda3/lib/python3.6/site-packages/matplotlib/axes/_axes.py:6462: UserWarning: The 'normed' kwarg is deprecated, and has been replaced by the 'density' kwarg.\n",
      "  warnings.warn(\"The 'normed' kwarg is deprecated, and has been \"\n"
     ]
    },
    {
     "data": {
      "text/plain": [
       "<matplotlib.axes._subplots.AxesSubplot at 0x7fd6081ea048>"
      ]
     },
     "execution_count": 98,
     "metadata": {},
     "output_type": "execute_result"
    },
    {
     "data": {
      "image/png": "[encoded data removed]",
      "text/plain": [
       "<Figure size 432x288 with 1 Axes>"
      ]
     },
     "metadata": {},
     "output_type": "display_data"
    }
   ],
   "source": [
    "sns.distplot(test_df['redshift_pred'], hist=True, kde=True, \n",
    "             color = 'darkblue', \n",
    "             hist_kws={'edgecolor':'black'},\n",
    "             kde_kws={'linewidth': 4})"
   ]
  },
  {
   "cell_type": "code",
   "execution_count": null,
   "metadata": {},
   "outputs": [],
   "source": []
  }
 ],
 "metadata": {
  "kernelspec": {
   "display_name": "Python 3",
   "language": "python",
   "name": "python3"
  },
  "language_info": {
   "codemirror_mode": {
    "name": "ipython",
    "version": 3
   },
   "file_extension": ".py",
   "mimetype": "text/x-python",
   "name": "python",
   "nbconvert_exporter": "python",
   "pygments_lexer": "ipython3",
   "version": "3.6.5"
  }
 },
 "nbformat": 4,
 "nbformat_minor": 2
}
